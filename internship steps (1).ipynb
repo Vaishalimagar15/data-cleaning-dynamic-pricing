{
 "cells": [
  {
   "cell_type": "code",
   "execution_count": 2,
   "id": "0cc2a7bd-1131-42b6-8c18-3057e8115e4b",
   "metadata": {},
   "outputs": [],
   "source": [
    "# ===============================\n",
    "# Data Cleaning, Integration, and Dynamic Pricing\n",
    "# Vaishali_Magar\n",
    "# ===============================\n",
    "\n",
    "# 1. Import Libraries\n",
    "import pandas as pd\n",
    "import numpy as np\n",
    "from sklearn.preprocessing import StandardScaler\n",
    "import matplotlib.pyplot as plt\n"
   ]
  },
  {
   "cell_type": "code",
   "execution_count": 3,
   "id": "75b5d20c-fc0e-4455-94dd-49dfbe24f933",
   "metadata": {},
   "outputs": [
    {
     "name": "stdout",
     "output_type": "stream",
     "text": [
      "Shape April-May: (2177, 7)\n",
      "Shape June: (1112, 7)\n",
      "\n",
      "--- April-May Sample ---\n",
      "  ActivitySiteID      ActivityDescription  \\\n",
      "0            HXP  20-20-20  2.45pm-3.45pm   \n",
      "1            HXP  20-20-20  2.45pm-3.45pm   \n",
      "2            HXP  20-20-20  2.45pm-3.45pm   \n",
      "\n",
      "  BookingEndDateTime (Month / Day / Year) BookingStartTime  MaxBookees  \\\n",
      "0                               08-Apr-18         14:45:00          25   \n",
      "1                               15-Apr-18         14:45:00          25   \n",
      "2                               22-Apr-18         14:45:00          25   \n",
      "\n",
      "   Number Booked  Price (INR)  \n",
      "0             12        499.0  \n",
      "1             15        499.0  \n",
      "2             14        499.0  \n",
      "\n",
      "--- June Sample ---\n",
      "  ActivitySiteID     ActivityDescription  \\\n",
      "0            BRP  20:20:20  9.30-10.30am   \n",
      "1            BRP  20:20:20  9.30-10.30am   \n",
      "2            BRP  20:20:20  9.30-10.30am   \n",
      "\n",
      "  BookingEndDateTime (Month / Day / Year) BookingStartTime  MaxBookees  \\\n",
      "0                               01-Jun-18          9:30:00          35   \n",
      "1                               08-Jun-18          9:30:00          35   \n",
      "2                               15-Jun-18          9:30:00          35   \n",
      "\n",
      "   Number Booked  Price (INR)  \n",
      "0             28          499  \n",
      "1             35          499  \n",
      "2             31          499  \n"
     ]
    }
   ],
   "source": [
    "# -------------------------------\n",
    "# Step 1: Load Raw Data\n",
    "# -------------------------------\n",
    "df1 = pd.read_csv(r\"C:\\Users\\Vaishali Magar\\Pictures\\Classes April-May 2018.csv\")\n",
    "df2 = pd.read_csv(r\"C:\\Users\\Vaishali Magar\\Pictures\\Classes June 2018.csv\")\n",
    "\n",
    "print(\"Shape April-May:\", df1.shape)\n",
    "print(\"Shape June:\", df2.shape)\n",
    "print(\"\\n--- April-May Sample ---\")\n",
    "print(df1.head(3))\n",
    "print(\"\\n--- June Sample ---\")\n",
    "print(df2.head(3))"
   ]
  },
  {
   "cell_type": "code",
   "execution_count": 4,
   "id": "a195b17b-7407-4798-8797-7e32a438c012",
   "metadata": {},
   "outputs": [
    {
     "name": "stdout",
     "output_type": "stream",
     "text": [
      "\n",
      "✅ After merging:  (3289, 7)\n",
      "\n",
      "Missing values before handling:\n",
      " ActivitySiteID                            0\n",
      "ActivityDescription                       0\n",
      "BookingEndDateTime_Month___Day___Year     0\n",
      "BookingStartTime                          0\n",
      "MaxBookees                                0\n",
      "Number_Booked                             0\n",
      "Price_INR                                18\n",
      "dtype: int64\n",
      "\n",
      "Missing values after handling:\n",
      " ActivitySiteID                           0\n",
      "ActivityDescription                      0\n",
      "BookingEndDateTime_Month___Day___Year    0\n",
      "BookingStartTime                         0\n",
      "MaxBookees                               0\n",
      "Number_Booked                            0\n",
      "Price_INR                                0\n",
      "dtype: int64\n",
      "\n",
      "Duplicates before: 0\n",
      "Duplicates after: 0\n",
      "\n",
      "--- Cleaned Data Sample ---\n",
      "  ActivitySiteID      ActivityDescription BookingStartTime  MaxBookees  \\\n",
      "0            HXP  20-20-20  2.45pm-3.45pm         14:45:00          25   \n",
      "1            HXP  20-20-20  2.45pm-3.45pm         14:45:00          25   \n",
      "2            HXP  20-20-20  2.45pm-3.45pm         14:45:00          25   \n",
      "3            HXP  20-20-20  2.45pm-3.45pm         14:45:00          25   \n",
      "4            HXP  20-20-20  2.45pm-3.45pm         14:45:00          25   \n",
      "\n",
      "   Number_Booked  Price_INR BookingEndDateTime  \n",
      "0             12      499.0         2018-04-08  \n",
      "1             15      499.0         2018-04-15  \n",
      "2             14      499.0         2018-04-22  \n",
      "3              9      499.0         2018-04-29  \n",
      "4              7      499.0         2018-05-06  \n",
      "\n",
      "Data Types:\n",
      " ActivitySiteID                 object\n",
      "ActivityDescription            object\n",
      "BookingStartTime               object\n",
      "MaxBookees                      int64\n",
      "Number_Booked                   int64\n",
      "Price_INR                     float64\n",
      "BookingEndDateTime     datetime64[ns]\n",
      "dtype: object\n"
     ]
    }
   ],
   "source": [
    "\n",
    "# -------------------------------\n",
    "# Step 2: Clean Data\n",
    "# -------------------------------\n",
    "\n",
    "# Standardize column names\n",
    "def clean_columns(df):\n",
    "    df.columns = (\n",
    "        df.columns.str.strip()\n",
    "        .str.replace(\" \", \"_\")\n",
    "        .str.replace(\"(\", \"\")\n",
    "        .str.replace(\")\", \"\")\n",
    "        .str.replace(\"/\", \"_\")\n",
    "    )\n",
    "    return df\n",
    "\n",
    "df1 = clean_columns(df1)\n",
    "df2 = clean_columns(df2)\n",
    "\n",
    "# Merge datasets\n",
    "df = pd.concat([df1, df2], ignore_index=True)\n",
    "print(\"\\n✅ After merging: \", df.shape)\n",
    "\n",
    "# Handle missing values\n",
    "print(\"\\nMissing values before handling:\\n\", df.isna().sum())\n",
    "df = df.fillna({\"Number_Booked\": 0, \"Price_INR\": df[\"Price_INR\"].median()})\n",
    "df = df.dropna(how=\"all\")\n",
    "print(\"\\nMissing values after handling:\\n\", df.isna().sum())\n",
    "\n",
    "# Remove duplicates\n",
    "print(\"\\nDuplicates before:\", df.duplicated().sum())\n",
    "df = df.drop_duplicates()\n",
    "print(\"Duplicates after:\", df.duplicated().sum())\n",
    "\n",
    "# Correct data types\n",
    "df[\"Price_INR\"] = pd.to_numeric(df[\"Price_INR\"], errors=\"coerce\")\n",
    "df[\"Number_Booked\"] = pd.to_numeric(df[\"Number_Booked\"], errors=\"coerce\")\n",
    "df[\"MaxBookees\"] = pd.to_numeric(df[\"MaxBookees\"], errors=\"coerce\")\n",
    "\n",
    "# Convert date column to datetime with explicit format\n",
    "df[\"BookingEndDateTime\"] = pd.to_datetime(\n",
    "    df[\"BookingEndDateTime_Month___Day___Year\"], \n",
    "    format=\"%d-%b-%y\",\n",
    "    errors=\"coerce\"\n",
    ")\n",
    "\n",
    "# Drop old messy column\n",
    "df = df.drop(columns=[\"BookingEndDateTime_Month___Day___Year\"])\n",
    "\n",
    "# Clean categorical text\n",
    "df[\"ActivitySiteID\"] = df[\"ActivitySiteID\"].str.strip()\n",
    "df[\"ActivityDescription\"] = df[\"ActivityDescription\"].str.strip()\n",
    "\n",
    "print(\"\\n--- Cleaned Data Sample ---\")\n",
    "print(df.head(5))\n",
    "print(\"\\nData Types:\\n\", df.dtypes)"
   ]
  },
  {
   "cell_type": "code",
   "execution_count": 5,
   "id": "f707563d-60a5-4931-a55c-2b0051f8d72a",
   "metadata": {},
   "outputs": [
    {
     "name": "stdout",
     "output_type": "stream",
     "text": [
      "\n",
      "--- After Scaling ---\n",
      "   Price_INR  Number_Booked  MaxBookees\n",
      "0  -1.709436      -0.535512   -0.475775\n",
      "1  -1.709436      -0.219810   -0.475775\n",
      "2  -1.709436      -0.325044   -0.475775\n",
      "3  -1.709436      -0.851213   -0.475775\n",
      "4  -1.709436      -1.061680   -0.475775\n"
     ]
    }
   ],
   "source": [
    "# -------------------------------\n",
    "# Step 3: Transform Data\n",
    "# -------------------------------\n",
    "\n",
    "# Standard scaling\n",
    "scaler = StandardScaler()\n",
    "df[[\"Price_INR\", \"Number_Booked\", \"MaxBookees\"]] = scaler.fit_transform(\n",
    "    df[[\"Price_INR\", \"Number_Booked\", \"MaxBookees\"]]\n",
    ")\n",
    "\n",
    "print(\"\\n--- After Scaling ---\")\n",
    "print(df[[\"Price_INR\", \"Number_Booked\", \"MaxBookees\"]].head(5))\n"
   ]
  },
  {
   "cell_type": "code",
   "execution_count": 6,
   "id": "eec61c46-9bfd-4db8-9bfb-5b9ab09862b9",
   "metadata": {},
   "outputs": [
    {
     "name": "stdout",
     "output_type": "stream",
     "text": [
      "\n",
      "Invalid bookings found: 1850\n",
      "\n",
      "Summary Statistics:\n",
      "          MaxBookees  Number_Booked     Price_INR  \\\n",
      "count  3.289000e+03   3.289000e+03  3.289000e+03   \n",
      "mean   1.901118e-16  -1.123388e-16 -8.641444e-17   \n",
      "min   -1.999978e+00  -1.693083e+00 -1.709436e+00   \n",
      "25%   -5.420451e-01  -7.459791e-01 -6.977698e-01   \n",
      "50%   -1.444272e-01  -1.145765e-01 -4.448533e-01   \n",
      "75%    1.869211e-01   7.272936e-01  8.197296e-01   \n",
      "max    2.506359e+00   4.936644e+00  2.716604e+00   \n",
      "std    1.000152e+00   1.000152e+00  1.000152e+00   \n",
      "\n",
      "                  BookingEndDateTime  \n",
      "count                           3289  \n",
      "mean   2018-05-16 08:58:57.610215680  \n",
      "min              2018-04-01 00:00:00  \n",
      "25%              2018-04-24 00:00:00  \n",
      "50%              2018-05-16 00:00:00  \n",
      "75%              2018-06-08 00:00:00  \n",
      "max              2018-06-30 00:00:00  \n",
      "std                              NaN  \n"
     ]
    }
   ],
   "source": [
    "# -------------------------------\n",
    "# Step 4: Quality Checks\n",
    "# -------------------------------\n",
    "\n",
    "# Invalid bookings\n",
    "invalid_bookings = df[df[\"Number_Booked\"] > df[\"MaxBookees\"]]\n",
    "print(\"\\nInvalid bookings found:\", invalid_bookings.shape[0])\n",
    "\n",
    "# Summary statistics\n",
    "print(\"\\nSummary Statistics:\\n\", df.describe())\n"
   ]
  },
  {
   "cell_type": "code",
   "execution_count": 7,
   "id": "fd124804-7f1d-4915-8e22-cab34dd49bdd",
   "metadata": {},
   "outputs": [
    {
     "name": "stdout",
     "output_type": "stream",
     "text": [
      "\n",
      "--- Data with Dynamic Pricing ---\n",
      "  ActivitySiteID      ActivityDescription  Price_INR  DynamicPrice\n",
      "0            HXP  20-20-20  2.45pm-3.45pm  -1.709436         -2.26\n",
      "1            HXP  20-20-20  2.45pm-3.45pm  -1.709436         -1.69\n",
      "2            HXP  20-20-20  2.45pm-3.45pm  -1.709436         -1.88\n",
      "3            HXP  20-20-20  2.45pm-3.45pm  -1.709436         -2.26\n",
      "4            HXP  20-20-20  2.45pm-3.45pm  -1.709436         -2.26\n",
      "5            HXP  20-20-20  2.45pm-3.45pm  -1.709436         -2.26\n",
      "6            HXP  20-20-20  2.45pm-3.45pm  -1.709436         -2.26\n",
      "7            HXP  20-20-20  2.45pm-3.45pm  -1.709436         -2.26\n",
      "8            TSC     20-20-20 7.00-8.00pm  -1.709436         -2.36\n",
      "9            TSC     20-20-20 7.00-8.00pm  -1.709436         -2.36\n"
     ]
    }
   ],
   "source": [
    "# -------------------------------\n",
    "# Step 5: Dynamic Pricing Function\n",
    "# -------------------------------\n",
    "\n",
    "def dynamic_pricing(row):\n",
    "    price = row[\"Price_INR\"]\n",
    "\n",
    "    # Demand-based pricing\n",
    "    demand_ratio = row[\"Number_Booked\"] / row[\"MaxBookees\"]\n",
    "    if demand_ratio > 0.8:\n",
    "        price *= 1.2\n",
    "    elif demand_ratio < 0.5:\n",
    "        price *= 0.9\n",
    "\n",
    "    # Time-based pricing (peak hours: 6–9am, 6–9pm)\n",
    "    try:\n",
    "        hour = pd.to_datetime(row[\"BookingStartTime\"], format=\"%H:%M:%S\").hour\n",
    "    except:\n",
    "        try:\n",
    "            hour = pd.to_datetime(row[\"BookingStartTime\"], format=\"%H:%M\").hour\n",
    "        except:\n",
    "            hour = None\n",
    "\n",
    "    if hour is not None and ((6 <= hour <= 9) or (18 <= hour <= 21)):\n",
    "        price *= 1.15\n",
    "\n",
    "    # Location-based pricing (example)\n",
    "    if row[\"ActivitySiteID\"] in [\"HXP\", \"BRP\"]:\n",
    "        price *= 1.1\n",
    "\n",
    "    return round(price, 2)\n",
    "\n",
    "df[\"DynamicPrice\"] = df.apply(dynamic_pricing, axis=1)\n",
    "\n",
    "print(\"\\n--- Data with Dynamic Pricing ---\")\n",
    "print(df[[\"ActivitySiteID\", \"ActivityDescription\", \"Price_INR\", \"DynamicPrice\"]].head(10))\n"
   ]
  },
  {
   "cell_type": "code",
   "execution_count": 8,
   "id": "a46b1515-3aa7-4d35-9766-7413b3e5e32c",
   "metadata": {},
   "outputs": [
    {
     "name": "stdout",
     "output_type": "stream",
     "text": [
      "\n",
      "✅ Cleaned dataset saved as Cleaned_Classes_April_June_2018.csv\n"
     ]
    }
   ],
   "source": [
    "# -------------------------------\n",
    "# Step 6: Export Cleaned Data\n",
    "# -------------------------------\n",
    "df.to_csv(\"Cleaned_Classes_April_June_2018.csv\", index=False)\n",
    "print(\"\\n✅ Cleaned dataset saved as Cleaned_Classes_April_June_2018.csv\")\n"
   ]
  },
  {
   "cell_type": "code",
   "execution_count": 9,
   "id": "10bc345e-d2d7-42cd-b948-0e400d77b9fe",
   "metadata": {},
   "outputs": [
    {
     "data": {
      "image/png": "[encoded data removed]",
      "text/plain": [
       "<Figure size 800x500 with 1 Axes>"
      ]
     },
     "metadata": {},
     "output_type": "display_data"
    }
   ],
   "source": [
    "# -------------------------------\n",
    "# Step 7: Simple Visualization\n",
    "# -------------------------------\n",
    "plt.figure(figsize=(8,5))\n",
    "df.groupby(\"ActivitySiteID\")[\"DynamicPrice\"].mean().plot(kind=\"bar\")\n",
    "plt.title(\"Average Dynamic Price by Location\")\n",
    "plt.ylabel(\"Dynamic Price (scaled)\")\n",
    "plt.show()\n"
   ]
  },
  {
   "cell_type": "code",
   "execution_count": 10,
   "id": "9edc3b9c-a789-4212-bb7c-7f9f2bd8c1c2",
   "metadata": {},
   "outputs": [
    {
     "name": "stdout",
     "output_type": "stream",
     "text": [
      "\n",
      "--- Quality Report ---\n",
      "             Metric  Count\n",
      "0    Missing Values      0\n",
      "1        Duplicates      0\n",
      "2  Invalid Bookings   1850 \n",
      "\n",
      "📄 Quality report saved as Quality_Report_Vaishali_Magar.csv\n",
      "📊 Summary statistics saved as Summary_Statistics_Vaishali_Magar.csv\n"
     ]
    }
   ],
   "source": [
    "# -------------------------------\n",
    "# Step 4: Quality Checks + Report\n",
    "# -------------------------------\n",
    "\n",
    "# Missing values report\n",
    "missing_report = df.isnull().sum()\n",
    "\n",
    "# Duplicate rows count\n",
    "duplicate_count = df.duplicated().sum()\n",
    "\n",
    "# Invalid bookings (more booked than capacity)\n",
    "invalid_bookings = df[df[\"Number_Booked\"] > df[\"MaxBookees\"]]\n",
    "\n",
    "# Collect results into a DataFrame\n",
    "quality_report = pd.DataFrame({\n",
    "    \"Metric\": [\"Missing Values\", \"Duplicates\", \"Invalid Bookings\"],\n",
    "    \"Count\": [missing_report.sum(), duplicate_count, invalid_bookings.shape[0]]\n",
    "})\n",
    "\n",
    "print(\"\\n--- Quality Report ---\")\n",
    "print(quality_report, \"\\n\")\n",
    "\n",
    "# Export quality report\n",
    "quality_report.to_csv(\"Quality_Report_Vaishali_Magar.csv\", index=False)\n",
    "\n",
    "print(\"📄 Quality report saved as Quality_Report_Vaishali_Magar.csv\")\n",
    "\n",
    "# Detailed statistics\n",
    "summary_stats = df.describe()\n",
    "summary_stats.to_csv(\"Summary_Statistics_Vaishali_Magar.csv\")\n",
    "\n",
    "print(\"📊 Summary statistics saved as Summary_Statistics_Vaishali_Magar.csv\")\n"
   ]
  }
 ],
 "metadata": {
  "kernelspec": {
   "display_name": "Python 3 (ipykernel)",
   "language": "python",
   "name": "python3"
  },
  "language_info": {
   "codemirror_mode": {
    "name": "ipython",
    "version": 3
   },
   "file_extension": ".py",
   "mimetype": "text/x-python",
   "name": "python",
   "nbconvert_exporter": "python",
   "pygments_lexer": "ipython3",
   "version": "3.12.7"
  }
 },
 "nbformat": 4,
 "nbformat_minor": 5
}
