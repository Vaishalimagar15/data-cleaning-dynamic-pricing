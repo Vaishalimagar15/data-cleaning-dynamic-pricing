{
 "cells": [
  {
   "cell_type": "code",
   "execution_count": 1,
   "id": "7509147d-6bc0-41b9-b320-d61c282283c1",
   "metadata": {},
   "outputs": [],
   "source": [
    "# ================================\n",
    "# Exploratory Data Analysis (EDA)\n",
    "# Vaishali Magar\n",
    "# ================================\n",
    "\n",
    "# 1. Load Libraries\n",
    "import pandas as pd\n",
    "import numpy as np\n",
    "import matplotlib.pyplot as plt\n",
    "import seaborn as sns\n"
   ]
  },
  {
   "cell_type": "code",
   "execution_count": 2,
   "id": "6ee5a74f-bd51-4ace-b4f3-fa9f6ac0c081",
   "metadata": {},
   "outputs": [],
   "source": [
    "# Display settings\n",
    "pd.set_option(\"display.max_columns\", None)\n",
    "sns.set(style=\"whitegrid\")"
   ]
  },
  {
   "cell_type": "code",
   "execution_count": 3,
   "id": "b9eca90b-3a71-4ddd-94ec-ec0fcc6bb8fd",
   "metadata": {},
   "outputs": [
    {
     "name": "stdout",
     "output_type": "stream",
     "text": [
      "Shape of dataset: (3289, 8)\n"
     ]
    },
    {
     "data": {
      "text/html": [
       "<div>\n",
       "<style scoped>\n",
       "    .dataframe tbody tr th:only-of-type {\n",
       "        vertical-align: middle;\n",
       "    }\n",
       "\n",
       "    .dataframe tbody tr th {\n",
       "        vertical-align: top;\n",
       "    }\n",
       "\n",
       "    .dataframe thead th {\n",
       "        text-align: right;\n",
       "    }\n",
       "</style>\n",
       "<table border=\"1\" class=\"dataframe\">\n",
       "  <thead>\n",
       "    <tr style=\"text-align: right;\">\n",
       "      <th></th>\n",
       "      <th>ActivitySiteID</th>\n",
       "      <th>ActivityDescription</th>\n",
       "      <th>BookingStartTime</th>\n",
       "      <th>MaxBookees</th>\n",
       "      <th>Number_Booked</th>\n",
       "      <th>Price_INR</th>\n",
       "      <th>BookingEndDateTime</th>\n",
       "      <th>DynamicPrice</th>\n",
       "    </tr>\n",
       "  </thead>\n",
       "  <tbody>\n",
       "    <tr>\n",
       "      <th>0</th>\n",
       "      <td>HXP</td>\n",
       "      <td>20-20-20  2.45pm-3.45pm</td>\n",
       "      <td>14:45:00</td>\n",
       "      <td>-0.475775</td>\n",
       "      <td>-0.535512</td>\n",
       "      <td>-1.709436</td>\n",
       "      <td>2018-04-08</td>\n",
       "      <td>-2.26</td>\n",
       "    </tr>\n",
       "    <tr>\n",
       "      <th>1</th>\n",
       "      <td>HXP</td>\n",
       "      <td>20-20-20  2.45pm-3.45pm</td>\n",
       "      <td>14:45:00</td>\n",
       "      <td>-0.475775</td>\n",
       "      <td>-0.219810</td>\n",
       "      <td>-1.709436</td>\n",
       "      <td>2018-04-15</td>\n",
       "      <td>-1.69</td>\n",
       "    </tr>\n",
       "    <tr>\n",
       "      <th>2</th>\n",
       "      <td>HXP</td>\n",
       "      <td>20-20-20  2.45pm-3.45pm</td>\n",
       "      <td>14:45:00</td>\n",
       "      <td>-0.475775</td>\n",
       "      <td>-0.325044</td>\n",
       "      <td>-1.709436</td>\n",
       "      <td>2018-04-22</td>\n",
       "      <td>-1.88</td>\n",
       "    </tr>\n",
       "    <tr>\n",
       "      <th>3</th>\n",
       "      <td>HXP</td>\n",
       "      <td>20-20-20  2.45pm-3.45pm</td>\n",
       "      <td>14:45:00</td>\n",
       "      <td>-0.475775</td>\n",
       "      <td>-0.851213</td>\n",
       "      <td>-1.709436</td>\n",
       "      <td>2018-04-29</td>\n",
       "      <td>-2.26</td>\n",
       "    </tr>\n",
       "    <tr>\n",
       "      <th>4</th>\n",
       "      <td>HXP</td>\n",
       "      <td>20-20-20  2.45pm-3.45pm</td>\n",
       "      <td>14:45:00</td>\n",
       "      <td>-0.475775</td>\n",
       "      <td>-1.061680</td>\n",
       "      <td>-1.709436</td>\n",
       "      <td>2018-05-06</td>\n",
       "      <td>-2.26</td>\n",
       "    </tr>\n",
       "  </tbody>\n",
       "</table>\n",
       "</div>"
      ],
      "text/plain": [
       "  ActivitySiteID      ActivityDescription BookingStartTime  MaxBookees  \\\n",
       "0            HXP  20-20-20  2.45pm-3.45pm         14:45:00   -0.475775   \n",
       "1            HXP  20-20-20  2.45pm-3.45pm         14:45:00   -0.475775   \n",
       "2            HXP  20-20-20  2.45pm-3.45pm         14:45:00   -0.475775   \n",
       "3            HXP  20-20-20  2.45pm-3.45pm         14:45:00   -0.475775   \n",
       "4            HXP  20-20-20  2.45pm-3.45pm         14:45:00   -0.475775   \n",
       "\n",
       "   Number_Booked  Price_INR BookingEndDateTime  DynamicPrice  \n",
       "0      -0.535512  -1.709436         2018-04-08         -2.26  \n",
       "1      -0.219810  -1.709436         2018-04-15         -1.69  \n",
       "2      -0.325044  -1.709436         2018-04-22         -1.88  \n",
       "3      -0.851213  -1.709436         2018-04-29         -2.26  \n",
       "4      -1.061680  -1.709436         2018-05-06         -2.26  "
      ]
     },
     "metadata": {},
     "output_type": "display_data"
    }
   ],
   "source": [
    "# 2. Load Data\n",
    "\n",
    "df = pd.read_csv(r\"C:\\Users\\Vaishali Magar\\Cleaned_Classes_April_June_2018.csv\")\n",
    "print(\"Shape of dataset:\", df.shape)\n",
    "display(df.head())"
   ]
  },
  {
   "cell_type": "code",
   "execution_count": 4,
   "id": "32b4d7a7-2713-4014-81ce-7afd6a86a74b",
   "metadata": {},
   "outputs": [
    {
     "name": "stdout",
     "output_type": "stream",
     "text": [
      "\n",
      "--- Info ---\n",
      "<class 'pandas.core.frame.DataFrame'>\n",
      "RangeIndex: 3289 entries, 0 to 3288\n",
      "Data columns (total 8 columns):\n",
      " #   Column               Non-Null Count  Dtype  \n",
      "---  ------               --------------  -----  \n",
      " 0   ActivitySiteID       3289 non-null   object \n",
      " 1   ActivityDescription  3289 non-null   object \n",
      " 2   BookingStartTime     3289 non-null   object \n",
      " 3   MaxBookees           3289 non-null   float64\n",
      " 4   Number_Booked        3289 non-null   float64\n",
      " 5   Price_INR            3289 non-null   float64\n",
      " 6   BookingEndDateTime   3289 non-null   object \n",
      " 7   DynamicPrice         3289 non-null   float64\n",
      "dtypes: float64(4), object(4)\n",
      "memory usage: 205.7+ KB\n",
      "None\n",
      "\n",
      "--- Missing Values ---\n",
      "ActivitySiteID         0\n",
      "ActivityDescription    0\n",
      "BookingStartTime       0\n",
      "MaxBookees             0\n",
      "Number_Booked          0\n",
      "Price_INR              0\n",
      "BookingEndDateTime     0\n",
      "DynamicPrice           0\n",
      "dtype: int64\n"
     ]
    }
   ],
   "source": [
    "# 3. Data Info\n",
    "print(\"\\n--- Info ---\")\n",
    "print(df.info())\n",
    "print(\"\\n--- Missing Values ---\")\n",
    "print(df.isnull().sum())\n"
   ]
  },
  {
   "cell_type": "code",
   "execution_count": 5,
   "id": "3d3ab189-898b-4b52-9df1-184273c9909a",
   "metadata": {},
   "outputs": [
    {
     "data": {
      "text/html": [
       "<div>\n",
       "<style scoped>\n",
       "    .dataframe tbody tr th:only-of-type {\n",
       "        vertical-align: middle;\n",
       "    }\n",
       "\n",
       "    .dataframe tbody tr th {\n",
       "        vertical-align: top;\n",
       "    }\n",
       "\n",
       "    .dataframe thead th {\n",
       "        text-align: right;\n",
       "    }\n",
       "</style>\n",
       "<table border=\"1\" class=\"dataframe\">\n",
       "  <thead>\n",
       "    <tr style=\"text-align: right;\">\n",
       "      <th></th>\n",
       "      <th>MaxBookees</th>\n",
       "      <th>Number_Booked</th>\n",
       "      <th>Price_INR</th>\n",
       "      <th>DynamicPrice</th>\n",
       "    </tr>\n",
       "  </thead>\n",
       "  <tbody>\n",
       "    <tr>\n",
       "      <th>count</th>\n",
       "      <td>3.289000e+03</td>\n",
       "      <td>3.289000e+03</td>\n",
       "      <td>3.289000e+03</td>\n",
       "      <td>3289.000000</td>\n",
       "    </tr>\n",
       "    <tr>\n",
       "      <th>mean</th>\n",
       "      <td>1.209802e-16</td>\n",
       "      <td>-1.123388e-16</td>\n",
       "      <td>-6.913155e-17</td>\n",
       "      <td>-0.021864</td>\n",
       "    </tr>\n",
       "    <tr>\n",
       "      <th>std</th>\n",
       "      <td>1.000152e+00</td>\n",
       "      <td>1.000152e+00</td>\n",
       "      <td>1.000152e+00</td>\n",
       "      <td>1.193893</td>\n",
       "    </tr>\n",
       "    <tr>\n",
       "      <th>min</th>\n",
       "      <td>-1.999978e+00</td>\n",
       "      <td>-1.693083e+00</td>\n",
       "      <td>-1.709436e+00</td>\n",
       "      <td>-2.590000</td>\n",
       "    </tr>\n",
       "    <tr>\n",
       "      <th>25%</th>\n",
       "      <td>-5.420451e-01</td>\n",
       "      <td>-7.459791e-01</td>\n",
       "      <td>-6.977698e-01</td>\n",
       "      <td>-0.840000</td>\n",
       "    </tr>\n",
       "    <tr>\n",
       "      <th>50%</th>\n",
       "      <td>-1.444272e-01</td>\n",
       "      <td>-1.145765e-01</td>\n",
       "      <td>-4.448533e-01</td>\n",
       "      <td>-0.400000</td>\n",
       "    </tr>\n",
       "    <tr>\n",
       "      <th>75%</th>\n",
       "      <td>1.869211e-01</td>\n",
       "      <td>7.272936e-01</td>\n",
       "      <td>8.197296e-01</td>\n",
       "      <td>0.740000</td>\n",
       "    </tr>\n",
       "    <tr>\n",
       "      <th>max</th>\n",
       "      <td>2.506359e+00</td>\n",
       "      <td>4.936644e+00</td>\n",
       "      <td>2.716604e+00</td>\n",
       "      <td>4.120000</td>\n",
       "    </tr>\n",
       "  </tbody>\n",
       "</table>\n",
       "</div>"
      ],
      "text/plain": [
       "         MaxBookees  Number_Booked     Price_INR  DynamicPrice\n",
       "count  3.289000e+03   3.289000e+03  3.289000e+03   3289.000000\n",
       "mean   1.209802e-16  -1.123388e-16 -6.913155e-17     -0.021864\n",
       "std    1.000152e+00   1.000152e+00  1.000152e+00      1.193893\n",
       "min   -1.999978e+00  -1.693083e+00 -1.709436e+00     -2.590000\n",
       "25%   -5.420451e-01  -7.459791e-01 -6.977698e-01     -0.840000\n",
       "50%   -1.444272e-01  -1.145765e-01 -4.448533e-01     -0.400000\n",
       "75%    1.869211e-01   7.272936e-01  8.197296e-01      0.740000\n",
       "max    2.506359e+00   4.936644e+00  2.716604e+00      4.120000"
      ]
     },
     "metadata": {},
     "output_type": "display_data"
    }
   ],
   "source": [
    "# 4. Descriptive Statistics\n",
    "display(df.describe())"
   ]
  },
  {
   "cell_type": "code",
   "execution_count": 6,
   "id": "dd2bd880-e6c9-43f1-8682-8ea8fba243b7",
   "metadata": {},
   "outputs": [],
   "source": [
    "# 5. Booking Trends Over Time\n",
    "if \"date\" in df.columns:\n",
    "    df[\"date\"] = pd.to_datetime(df[\"date\"])\n",
    "    bookings_per_day = df.groupby(\"date\").size()\n",
    "\n",
    "    plt.figure(figsize=(12,6))\n",
    "    bookings_per_day.plot()\n",
    "    plt.title(\"Daily Booking Trends\")\n",
    "    plt.xlabel(\"Date\")\n",
    "    plt.ylabel(\"Number of Bookings\")\n",
    "    plt.show()"
   ]
  },
  {
   "cell_type": "code",
   "execution_count": 7,
   "id": "cad1fbe8-37b2-4371-8654-0849f1a8e5ca",
   "metadata": {},
   "outputs": [],
   "source": [
    "# 6. Seasonal Patterns (Bookings by Day of Week)\n",
    "if \"date\" in df.columns:\n",
    "    df[\"day_of_week\"] = df[\"date\"].dt.day_name()\n",
    "    plt.figure(figsize=(10,5))\n",
    "    sns.countplot(x=\"day_of_week\", data=df, order=[\"Monday\",\"Tuesday\",\"Wednesday\",\"Thursday\",\"Friday\",\"Saturday\",\"Sunday\"])\n",
    "    plt.title(\"Bookings by Day of Week\")\n",
    "    plt.xticks(rotation=45)\n",
    "    plt.show()"
   ]
  },
  {
   "cell_type": "code",
   "execution_count": 8,
   "id": "cc4d03d2-6bb6-452d-a501-2698c2a14fad",
   "metadata": {},
   "outputs": [],
   "source": [
    "# 7. High Demand Classes\n",
    "if \"class_name\" in df.columns:\n",
    "    plt.figure(figsize=(12,6))\n",
    "    top_classes = df[\"class_name\"].value_counts().head(10)\n",
    "    sns.barplot(x=top_classes.values, y=top_classes.index, palette=\"viridis\")\n",
    "    plt.title(\"Top 10 High-Demand Classes\")\n",
    "    plt.xlabel(\"Number of Bookings\")\n",
    "    plt.ylabel(\"Class Name\")\n",
    "    plt.show()"
   ]
  },
  {
   "cell_type": "code",
   "execution_count": 9,
   "id": "04720dbb-c61a-4cac-a320-880c86cb05f7",
   "metadata": {},
   "outputs": [],
   "source": [
    "# 8. Outlier Detection - Attendance\n",
    "if \"attendance\" in df.columns:\n",
    "    plt.figure(figsize=(8,6))\n",
    "    sns.boxplot(x=df[\"attendance\"])\n",
    "    plt.title(\"Outliers in Attendance\")\n",
    "    plt.show()"
   ]
  },
  {
   "cell_type": "code",
   "execution_count": 10,
   "id": "a18c225e-32ab-478b-8982-a5b1fd18ca2b",
   "metadata": {},
   "outputs": [
    {
     "data": {
      "image/png": "[encoded data removed]",
      "text/plain": [
       "<Figure size 1000x600 with 2 Axes>"
      ]
     },
     "metadata": {},
     "output_type": "display_data"
    },
    {
     "name": "stdout",
     "output_type": "stream",
     "text": [
      "✅ EDA Completed\n"
     ]
    }
   ],
   "source": [
    "# 9. Correlation Analysis\n",
    "plt.figure(figsize=(10,6))\n",
    "sns.heatmap(df.corr(numeric_only=True), annot=True, cmap=\"coolwarm\", fmt=\".2f\")\n",
    "plt.title(\"Correlation Heatmap\")\n",
    "plt.show()\n",
    "\n",
    "print(\"✅ EDA Completed\")"
   ]
  },
  {
   "cell_type": "code",
   "execution_count": null,
   "id": "596a3470-c455-48cf-a6d1-f8cd766827bd",
   "metadata": {},
   "outputs": [],
   "source": []
  }
 ],
 "metadata": {
  "kernelspec": {
   "display_name": "Python 3 (ipykernel)",
   "language": "python",
   "name": "python3"
  },
  "language_info": {
   "codemirror_mode": {
    "name": "ipython",
    "version": 3
   },
   "file_extension": ".py",
   "mimetype": "text/x-python",
   "name": "python",
   "nbconvert_exporter": "python",
   "pygments_lexer": "ipython3",
   "version": "3.12.7"
  }
 },
 "nbformat": 4,
 "nbformat_minor": 5
}
